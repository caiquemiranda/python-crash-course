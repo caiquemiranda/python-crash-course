{
 "cells": [
  {
   "cell_type": "code",
   "execution_count": 1,
   "metadata": {},
   "outputs": [
    {
     "name": "stdout",
     "output_type": "stream",
     "text": [
      "Versão de Python Neste Jupyter Notebook: 3.10.5\n"
     ]
    }
   ],
   "source": [
    "# Versão da Linguagem Python\n",
    "from platform import python_version\n",
    "print('Versão de Python Neste Jupyter Notebook:', python_version())\n",
    "\n",
    "# usaremos o filtro 'waning' para deixar mais limpo.\n",
    "import warnings\n",
    "warnings.filterwarnings('ignore')"
   ]
  },
  {
   "attachments": {},
   "cell_type": "markdown",
   "metadata": {},
   "source": [
    "### A Simple Dictionary"
   ]
  },
  {
   "cell_type": "code",
   "execution_count": 2,
   "metadata": {},
   "outputs": [
    {
     "name": "stdout",
     "output_type": "stream",
     "text": [
      "green\n",
      "5\n"
     ]
    }
   ],
   "source": [
    "alien_0 = {'color': 'green', \n",
    "           'points': 5}\n",
    "\n",
    "print(alien_0['color'])\n",
    "print(alien_0['points'])"
   ]
  },
  {
   "attachments": {},
   "cell_type": "markdown",
   "metadata": {},
   "source": [
    "### Working with Dictionaries"
   ]
  },
  {
   "cell_type": "code",
   "execution_count": 3,
   "metadata": {},
   "outputs": [],
   "source": [
    "alien_0 = {'color': 'green',\n",
    "           'points': 5}"
   ]
  },
  {
   "cell_type": "code",
   "execution_count": 4,
   "metadata": {},
   "outputs": [],
   "source": [
    "alien_0 = {'color': 'green'}"
   ]
  },
  {
   "attachments": {},
   "cell_type": "markdown",
   "metadata": {},
   "source": [
    "#### Accessing Values in a Dictionary"
   ]
  },
  {
   "cell_type": "code",
   "execution_count": 5,
   "metadata": {},
   "outputs": [
    {
     "name": "stdout",
     "output_type": "stream",
     "text": [
      "green\n"
     ]
    }
   ],
   "source": [
    "alien_0 = {'color': 'green'}\n",
    "print(alien_0['color'])"
   ]
  },
  {
   "cell_type": "code",
   "execution_count": 6,
   "metadata": {},
   "outputs": [
    {
     "name": "stdout",
     "output_type": "stream",
     "text": [
      "You just earned 5 points!\n"
     ]
    }
   ],
   "source": [
    "alien_0 = {'color': 'green', \n",
    "           'points': 5}\n",
    "\n",
    "new_points = alien_0['points']\n",
    "\n",
    "print(\"You just earned \" + str(new_points) + \" points!\")"
   ]
  },
  {
   "attachments": {},
   "cell_type": "markdown",
   "metadata": {},
   "source": [
    "#### Adding New Key-Value Pairs"
   ]
  },
  {
   "cell_type": "code",
   "execution_count": 7,
   "metadata": {},
   "outputs": [
    {
     "name": "stdout",
     "output_type": "stream",
     "text": [
      "{'color': 'green', 'points': 5}\n",
      "{'color': 'green', 'points': 5, 'x_position': 0, 'y_position': 25}\n"
     ]
    }
   ],
   "source": [
    "alien_0 = {'color': 'green', \n",
    "           'points': 5}\n",
    "\n",
    "print(alien_0)\n",
    "\n",
    "alien_0['x_position'] = 0\n",
    "alien_0['y_position'] = 25\n",
    "\n",
    "print(alien_0)"
   ]
  },
  {
   "cell_type": "code",
   "execution_count": 8,
   "metadata": {},
   "outputs": [
    {
     "data": {
      "text/plain": [
       "{'color': 'green', 'points': 5, 'y_position': 25, 'x_position': 0}"
      ]
     },
     "execution_count": 8,
     "metadata": {},
     "output_type": "execute_result"
    }
   ],
   "source": [
    "{'color': 'green', 'points': 5}\n",
    "{'color': 'green', 'points': 5, 'y_position': 25, 'x_position': 0}"
   ]
  },
  {
   "attachments": {},
   "cell_type": "markdown",
   "metadata": {},
   "source": [
    "#### Starting with an Empty Dictionary"
   ]
  },
  {
   "cell_type": "code",
   "execution_count": 9,
   "metadata": {},
   "outputs": [
    {
     "name": "stdout",
     "output_type": "stream",
     "text": [
      "{'color': 'green', 'points': 5}\n"
     ]
    }
   ],
   "source": [
    "alien_0 = {}\n",
    "\n",
    "alien_0['color'] = 'green'\n",
    "alien_0['points'] = 5\n",
    "\n",
    "print(alien_0)"
   ]
  },
  {
   "attachments": {},
   "cell_type": "markdown",
   "metadata": {},
   "source": [
    "#### Modifying Values in a Dictionary"
   ]
  },
  {
   "cell_type": "code",
   "execution_count": 10,
   "metadata": {},
   "outputs": [
    {
     "name": "stdout",
     "output_type": "stream",
     "text": [
      "The alien is green.\n",
      "The alien is now yellow.\n"
     ]
    }
   ],
   "source": [
    "alien_0 = {'color': 'green'}\n",
    "print(\"The alien is \" + alien_0['color'] + \".\")\n",
    "\n",
    "alien_0['color'] = 'yellow'\n",
    "print(\"The alien is now \" + alien_0['color'] + \".\")"
   ]
  },
  {
   "cell_type": "code",
   "execution_count": 11,
   "metadata": {},
   "outputs": [
    {
     "name": "stdout",
     "output_type": "stream",
     "text": [
      "Original x-position: 0\n",
      "New x-position: 2\n"
     ]
    }
   ],
   "source": [
    "alien_0 = {'x_position': 0, \n",
    "           'y_position': 25, \n",
    "           'speed': 'medium'}\n",
    "\n",
    "print(\"Original x-position: \" + str(alien_0['x_position']))\n",
    "\n",
    "# Move the alien to the right.\n",
    "# Determine how far to move the alien based on its current speed.\n",
    "if alien_0['speed'] == 'slow':\n",
    "    x_increment = 1\n",
    "\n",
    "elif alien_0['speed'] == 'medium':\n",
    "    x_increment = 2\n",
    "\n",
    "else:\n",
    "    # This must be a fast alien.\n",
    "    x_increment = 3\n",
    "\n",
    "# The new position is the old position plus the increment.\n",
    "alien_0['x_position'] = alien_0['x_position'] + x_increment\n",
    "\n",
    "print(\"New x-position: \" + str(alien_0['x_position']))"
   ]
  },
  {
   "cell_type": "code",
   "execution_count": 12,
   "metadata": {},
   "outputs": [],
   "source": [
    "alien_0['speed'] = 'fast'"
   ]
  },
  {
   "attachments": {},
   "cell_type": "markdown",
   "metadata": {},
   "source": [
    "#### Removing Key-Value Pairs"
   ]
  },
  {
   "cell_type": "code",
   "execution_count": 13,
   "metadata": {},
   "outputs": [
    {
     "name": "stdout",
     "output_type": "stream",
     "text": [
      "{'color': 'green', 'points': 5}\n",
      "{'color': 'green'}\n"
     ]
    }
   ],
   "source": [
    "alien_0 = {'color': 'green', \n",
    "           'points': 5}\n",
    "\n",
    "print(alien_0)\n",
    "\n",
    "del alien_0['points']\n",
    "print(alien_0)"
   ]
  },
  {
   "attachments": {},
   "cell_type": "markdown",
   "metadata": {},
   "source": [
    "#### A Dictionary of Similar Objects"
   ]
  },
  {
   "cell_type": "code",
   "execution_count": 14,
   "metadata": {},
   "outputs": [],
   "source": [
    "favorite_languages = {'Jonas': 'python',\n",
    "                      'Maria': 'c',\n",
    "                      'Marcos': 'ruby',\n",
    "                      'Paula': 'python',\n",
    "                      }"
   ]
  },
  {
   "cell_type": "code",
   "execution_count": 15,
   "metadata": {},
   "outputs": [
    {
     "name": "stdout",
     "output_type": "stream",
     "text": [
      "Maria's favorite language is C.\n"
     ]
    }
   ],
   "source": [
    "favorite_languages = {'Jonas': 'python',\n",
    "                      'Maria': 'c',\n",
    "                      'Marcos': 'ruby',\n",
    "                      'Paula': 'python',\n",
    "                      }\n",
    "\n",
    "print(\"Maria's favorite language is \" + \\\n",
    "    favorite_languages['Maria'].title() + \".\")"
   ]
  },
  {
   "cell_type": "code",
   "execution_count": 16,
   "metadata": {},
   "outputs": [
    {
     "data": {
      "text/plain": [
       "'c'"
      ]
     },
     "execution_count": 16,
     "metadata": {},
     "output_type": "execute_result"
    }
   ],
   "source": [
    "favorite_languages['Maria']"
   ]
  },
  {
   "attachments": {},
   "cell_type": "markdown",
   "metadata": {},
   "source": [
    "### Looping Through a Dictionary"
   ]
  },
  {
   "attachments": {},
   "cell_type": "markdown",
   "metadata": {},
   "source": [
    "#### Looping Through All Key-Value Pairs"
   ]
  },
  {
   "cell_type": "code",
   "execution_count": 17,
   "metadata": {},
   "outputs": [],
   "source": [
    "user_0 = {'username': 'efermi',\n",
    "          'first': 'enrico',\n",
    "          'last': 'fermi',\n",
    "          }"
   ]
  },
  {
   "cell_type": "code",
   "execution_count": 18,
   "metadata": {},
   "outputs": [
    {
     "name": "stdout",
     "output_type": "stream",
     "text": [
      "\n",
      "Key: username\n",
      "Value: efermi\n",
      "\n",
      "Key: first\n",
      "Value: enrico\n",
      "\n",
      "Key: last\n",
      "Value: fermi\n"
     ]
    }
   ],
   "source": [
    "user_0 = {'username': 'efermi',\n",
    "          'first': 'enrico',\n",
    "          'last': 'fermi',\n",
    "          }\n",
    "\n",
    "for key, value in user_0.items():\n",
    "    print(\"\\nKey: \" + key)\n",
    "    print(\"Value: \" + value)"
   ]
  },
  {
   "cell_type": "code",
   "execution_count": 19,
   "metadata": {},
   "outputs": [
    {
     "name": "stdout",
     "output_type": "stream",
     "text": [
      "Jonas's favorite language is Python.\n",
      "Maria's favorite language is C.\n",
      "Marcos's favorite language is Ruby.\n",
      "Paula's favorite language is Python.\n"
     ]
    }
   ],
   "source": [
    "favorite_languages = {'Jonas': 'python',\n",
    "                      'Maria': 'c',\n",
    "                      'Marcos': 'ruby',\n",
    "                      'Paula': 'python',\n",
    "                      }\n",
    "\n",
    "for name, language in favorite_languages.items():\n",
    "    print(name.title() + \"'s favorite language is \" + \\\n",
    "        language.title() + \".\")"
   ]
  },
  {
   "attachments": {},
   "cell_type": "markdown",
   "metadata": {},
   "source": [
    "#### Looping Through All the Keys in a Dictionary"
   ]
  },
  {
   "cell_type": "code",
   "execution_count": 20,
   "metadata": {},
   "outputs": [
    {
     "name": "stdout",
     "output_type": "stream",
     "text": [
      "Jonas\n",
      "Maria\n",
      "Marcos\n",
      "Paula\n"
     ]
    }
   ],
   "source": [
    "favorite_languages = {'Jonas': 'python',\n",
    "                      'Maria': 'c',\n",
    "                      'Marcos': 'ruby',\n",
    "                      'Paula': 'python',\n",
    "                      }\n",
    "\n",
    "for name in favorite_languages.keys():\n",
    "    print(name.title())"
   ]
  },
  {
   "cell_type": "code",
   "execution_count": 21,
   "metadata": {},
   "outputs": [
    {
     "name": "stdout",
     "output_type": "stream",
     "text": [
      "Jonas\n",
      " Hi Jonas, I see your favorite language is Python!\n",
      "Maria\n",
      "Marcos\n",
      "Paula\n",
      " Hi Paula, I see your favorite language is Python!\n"
     ]
    }
   ],
   "source": [
    "favorite_languages = {'Jonas': 'python',\n",
    "                      'Maria': 'c',\n",
    "                      'Marcos': 'ruby',\n",
    "                      'Paula': 'python',\n",
    "                      }\n",
    "\n",
    "friends = ['Jonas', 'Paula']\n",
    "\n",
    "for name in favorite_languages.keys():\n",
    "    print(name.title())\n",
    "    \n",
    "    if name in friends:\n",
    "        print(\" Hi \" + name.title() + \\\n",
    "        \", I see your favorite language is \" + \\\n",
    "        favorite_languages[name].title() + \"!\")"
   ]
  },
  {
   "cell_type": "code",
   "execution_count": 22,
   "metadata": {},
   "outputs": [
    {
     "name": "stdout",
     "output_type": "stream",
     "text": [
      "Erin, please take our poll!\n"
     ]
    }
   ],
   "source": [
    "favorite_languages = {'Jonas': 'python',\n",
    "                      'Maria': 'c',\n",
    "                      'Marcos': 'ruby',\n",
    "                      'Paula': 'python',\n",
    "                      }\n",
    "\n",
    "if 'Lucas' not in favorite_languages.keys():\n",
    "    print(\"Erin, please take our poll!\")"
   ]
  },
  {
   "attachments": {},
   "cell_type": "markdown",
   "metadata": {},
   "source": [
    "#### Looping Through a Dictionary’s Keys in Order"
   ]
  },
  {
   "cell_type": "code",
   "execution_count": 23,
   "metadata": {},
   "outputs": [
    {
     "name": "stdout",
     "output_type": "stream",
     "text": [
      "Jonas, thank you for taking the poll.\n",
      "Marcos, thank you for taking the poll.\n",
      "Maria, thank you for taking the poll.\n",
      "Paula, thank you for taking the poll.\n"
     ]
    }
   ],
   "source": [
    "favorite_languages = {'Jonas': 'python',\n",
    "                      'Maria': 'c',\n",
    "                      'Marcos': 'ruby',\n",
    "                      'Paula': 'python',\n",
    "                      }\n",
    "\n",
    "for name in sorted(favorite_languages.keys()):\n",
    "    print(name.title() + \", thank you for taking the poll.\")"
   ]
  },
  {
   "attachments": {},
   "cell_type": "markdown",
   "metadata": {},
   "source": [
    "#### Looping Through All Values in a Dictionary"
   ]
  },
  {
   "cell_type": "code",
   "execution_count": 24,
   "metadata": {},
   "outputs": [
    {
     "name": "stdout",
     "output_type": "stream",
     "text": [
      "The following languages have been mentioned:\n",
      "Python\n",
      "C\n",
      "Ruby\n",
      "Python\n"
     ]
    }
   ],
   "source": [
    "favorite_languages = {'Jonas': 'python',\n",
    "                      'Maria': 'c',\n",
    "                      'Marcos': 'ruby',\n",
    "                      'Paula': 'python',\n",
    "                      }\n",
    "\n",
    "print(\"The following languages have been mentioned:\")\n",
    "for language in favorite_languages.values():\n",
    "    print(language.title())"
   ]
  },
  {
   "cell_type": "code",
   "execution_count": 25,
   "metadata": {},
   "outputs": [
    {
     "name": "stdout",
     "output_type": "stream",
     "text": [
      "The following languages have been mentioned:\n",
      "C\n",
      "Python\n",
      "Ruby\n"
     ]
    }
   ],
   "source": [
    "favorite_languages = {'Jonas': 'python',\n",
    "                      'Maria': 'c',\n",
    "                      'Marcos': 'ruby',\n",
    "                      'Paula': 'python',\n",
    "                      }\n",
    "\n",
    "print(\"The following languages have been mentioned:\")\n",
    "for language in set(favorite_languages.values()):\n",
    "    print(language.title())"
   ]
  },
  {
   "attachments": {},
   "cell_type": "markdown",
   "metadata": {},
   "source": [
    "### Nesting"
   ]
  },
  {
   "attachments": {},
   "cell_type": "markdown",
   "metadata": {},
   "source": [
    "#### A List of Dictionaries"
   ]
  },
  {
   "cell_type": "code",
   "execution_count": 26,
   "metadata": {},
   "outputs": [
    {
     "name": "stdout",
     "output_type": "stream",
     "text": [
      "{'color': 'green', 'points': 5}\n",
      "{'color': 'yellow', 'points': 10}\n",
      "{'color': 'red', 'points': 15}\n"
     ]
    }
   ],
   "source": [
    "alien_0 = {'color': 'green', \n",
    "           'points': 5}\n",
    "\n",
    "alien_1 = {'color': 'yellow', \n",
    "           'points': 10}\n",
    "\n",
    "alien_2 = {'color': 'red', \n",
    "           'points': 15}\n",
    "\n",
    "aliens = [alien_0, alien_1, alien_2]\n",
    "\n",
    "for alien in aliens:\n",
    "    print(alien)\n",
    "    "
   ]
  },
  {
   "cell_type": "code",
   "execution_count": 27,
   "metadata": {},
   "outputs": [
    {
     "name": "stdout",
     "output_type": "stream",
     "text": [
      "{'color': 'green', 'points': 5, 'speed': 'slow'}\n",
      "{'color': 'green', 'points': 5, 'speed': 'slow'}\n",
      "{'color': 'green', 'points': 5, 'speed': 'slow'}\n",
      "{'color': 'green', 'points': 5, 'speed': 'slow'}\n",
      "{'color': 'green', 'points': 5, 'speed': 'slow'}\n",
      "...\n",
      "Total number of aliens: 30\n"
     ]
    }
   ],
   "source": [
    "# Make an empty list for storing aliens.\n",
    "aliens = []\n",
    "\n",
    "# Make 30 green aliens.\n",
    "for alien_number in range(30):\n",
    "    new_alien = {'color': 'green',\n",
    "                 'points': 5,\n",
    "                 'speed': 'slow'\n",
    "                 }\n",
    "    \n",
    "    aliens.append(new_alien)\n",
    "\n",
    "# Show the first 5 aliens:\n",
    "for alien in aliens[:5]:\n",
    "    print(alien)\n",
    "\n",
    "print(\"...\")\n",
    "\n",
    "# Show how many aliens have been created.\n",
    "print(\"Total number of aliens: \" + str(len(aliens)))"
   ]
  },
  {
   "cell_type": "code",
   "execution_count": 28,
   "metadata": {},
   "outputs": [
    {
     "name": "stdout",
     "output_type": "stream",
     "text": [
      "{'color': 'yellow', 'points': 10, 'speed': 'medium'}\n",
      "{'color': 'yellow', 'points': 10, 'speed': 'medium'}\n",
      "{'color': 'yellow', 'points': 10, 'speed': 'medium'}\n",
      "{'color': 'green', 'points': 5, 'speed': 'slow'}\n",
      "{'color': 'green', 'points': 5, 'speed': 'slow'}\n",
      "...\n"
     ]
    }
   ],
   "source": [
    "# Make an empty list for storing aliens.\n",
    "aliens = []\n",
    "\n",
    "# Make 30 green aliens.\n",
    "for alien_number in range (0,30):\n",
    "    new_alien = {'color': 'green',\n",
    "                 'points': 5,\n",
    "                 'speed': 'slow'\n",
    "                 }\n",
    "    aliens.append(new_alien)\n",
    "\n",
    "for alien in aliens[0:3]:\n",
    "    if alien['color'] == 'green':\n",
    "        alien['color'] = 'yellow'\n",
    "        alien['speed'] = 'medium'\n",
    "        alien['points'] = 10\n",
    "\n",
    "# Show the first 5 aliens:\n",
    "for alien in aliens[0:5]:\n",
    "    print(alien)\n",
    "\n",
    "print(\"...\")"
   ]
  },
  {
   "cell_type": "code",
   "execution_count": 29,
   "metadata": {},
   "outputs": [],
   "source": [
    "for alien in aliens[0:3]:\n",
    "    if alien['color'] == 'green':\n",
    "        alien['color'] = 'yellow'\n",
    "        alien['speed'] = 'medium'\n",
    "        alien['points'] = 10\n",
    "\n",
    "    elif alien['color'] == 'yellow':\n",
    "        alien['color'] = 'red'\n",
    "        alien['speed'] = 'fast'\n",
    "        alien['points'] = 15"
   ]
  },
  {
   "attachments": {},
   "cell_type": "markdown",
   "metadata": {},
   "source": [
    "#### A List in a Dictionary"
   ]
  },
  {
   "cell_type": "code",
   "execution_count": 30,
   "metadata": {},
   "outputs": [
    {
     "name": "stdout",
     "output_type": "stream",
     "text": [
      "You ordered a thick-crust pizza with the following toppings:\n",
      "\tmushrooms\n",
      "\textra cheese\n"
     ]
    }
   ],
   "source": [
    "# Store information about a pizza being ordered.\n",
    "pizza = {'crust': 'thick',\n",
    "         'toppings': ['mushrooms', \n",
    "                      'extra cheese'],\n",
    "         }\n",
    "\n",
    "# Summarize the order.\n",
    "print(\"You ordered a \" + pizza['crust'] + \"-crust pizza \" + \\\n",
    "    \"with the following toppings:\")\n",
    "\n",
    "for topping in pizza['toppings']:\n",
    "    print(\"\\t\" + topping)\n",
    "    "
   ]
  },
  {
   "cell_type": "code",
   "execution_count": 31,
   "metadata": {},
   "outputs": [
    {
     "name": "stdout",
     "output_type": "stream",
     "text": [
      "\n",
      "Jonas's favorite languages are:\n",
      "\n",
      "Maria's favorite languages are:\n",
      "\n",
      "Marcos's favorite languages are:\n",
      "\n",
      "Paula's favorite languages are:\n",
      "\tP\n",
      "\tY\n",
      "\tT\n",
      "\tH\n",
      "\tO\n",
      "\tN\n"
     ]
    }
   ],
   "source": [
    "favorite_languages = {'Jonas': 'python',\n",
    "                      'Maria': 'c',\n",
    "                      'Marcos': 'ruby',\n",
    "                      'Paula': 'python',\n",
    "                      }\n",
    "\n",
    "for name, languages in favorite_languages.items():\n",
    "    print(\"\\n\" + name.title() + \"'s favorite languages are:\")\n",
    "\n",
    "for language in languages:\n",
    "    print(\"\\t\" + language.title())"
   ]
  },
  {
   "attachments": {},
   "cell_type": "markdown",
   "metadata": {},
   "source": [
    "#### A Dictionary in a Dictionary"
   ]
  },
  {
   "cell_type": "code",
   "execution_count": 32,
   "metadata": {},
   "outputs": [
    {
     "name": "stdout",
     "output_type": "stream",
     "text": [
      "\n",
      "Username: aeinstein\n",
      "\tFull name: Albert Einstein\n",
      "\tLocation: Princeton\n",
      "\n",
      "Username: mcurie\n",
      "\tFull name: Marie Curie\n",
      "\tLocation: Paris\n"
     ]
    }
   ],
   "source": [
    "users = {'aeinstein': {'first': 'albert',\n",
    "                       'last': 'einstein',\n",
    "                       'location': 'princeton',\n",
    "                       },\n",
    "         'mcurie': {'first': 'marie',\n",
    "                    'last': 'curie',\n",
    "                    'location': 'paris',\n",
    "                    },\n",
    "         }\n",
    "\n",
    "for username, user_info in users.items():\n",
    "    print(\"\\nUsername: \" + username)\n",
    "    full_name = user_info['first'] + \" \" + user_info['last']\n",
    "    location = user_info['location']\n",
    "\n",
    "    print(\"\\tFull name: \" + full_name.title())\n",
    "    print(\"\\tLocation: \" + location.title())"
   ]
  },
  {
   "cell_type": "code",
   "execution_count": 33,
   "metadata": {},
   "outputs": [
    {
     "name": "stdout",
     "output_type": "stream",
     "text": [
      "Author: Caique Miranda\n",
      "\n",
      "Github username: caiquemiranda\n",
      "\n"
     ]
    }
   ],
   "source": [
    "%reload_ext watermark\n",
    "%watermark -a \"Caique Miranda\" -gu \"caiquemiranda\" -iv"
   ]
  },
  {
   "attachments": {},
   "cell_type": "markdown",
   "metadata": {},
   "source": [
    "### End."
   ]
  }
 ],
 "metadata": {
  "kernelspec": {
   "display_name": "Python 3",
   "language": "python",
   "name": "python3"
  },
  "language_info": {
   "codemirror_mode": {
    "name": "ipython",
    "version": 3
   },
   "file_extension": ".py",
   "mimetype": "text/x-python",
   "name": "python",
   "nbconvert_exporter": "python",
   "pygments_lexer": "ipython3",
   "version": "3.10.5"
  },
  "orig_nbformat": 4
 },
 "nbformat": 4,
 "nbformat_minor": 2
}
